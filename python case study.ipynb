{
 "cells": [
  {
   "cell_type": "code",
   "execution_count": 572,
   "metadata": {},
   "outputs": [],
   "source": [
    "def sales(man,target_period,reference_period):\n",
    "    #importing necessary libraies\n",
    "    import pandas as pd\n",
    "    #importing libaries\n",
    "    \n",
    "    xls = pd.ExcelFile(r'C:\\Users\\Harish kumar\\Desktop\\Case Study - Deep Dive Analysis.xlsx')\n",
    "    df = pd.read_excel(xls, 'input_data')\n",
    "    h=df[df['Manufacturer']==man]\n",
    "    val1=h[h['month']==reference_period]['Value Offtake(000 Rs)'].sum()\n",
    "    val2=h[h['month']==target_period]['Value Offtake(000 Rs)'].sum()   \n",
    "    if val2> val1:\n",
    "        print('There is no drop in sales for a {} in the {}'.format(man,target_period))\n",
    "    else:\n",
    "        #Geographical level deep dive table\n",
    "        v1=h[h['month']==target_period].groupby(['Zone','Region','Manufacturer']).sum()\n",
    "        v2=h[h['month']==reference_period].groupby(['Zone','Region','Manufacturer']).sum()\n",
    "        growth_rate=(v2-v1)*100/v2\n",
    "        contribution=(v1*100)/v1.sum()\n",
    "        product=growth_rate*contribution\n",
    "        d1=pd.DataFrame(data=growth_rate)\n",
    "        d2=pd.DataFrame(data=contribution)\n",
    "        d3=pd.DataFrame(data=product)\n",
    "        \n",
    "        d1.rename(columns={'Value Offtake(000 Rs)':'growth_rate'},inplace=True)\n",
    "        d2.rename(columns={'Value Offtake(000 Rs)':'contribution'},inplace=True)\n",
    "        d2.rename(columns={'Value Offtake(000 Rs)':'product'},inplace=True)\n",
    "        \n",
    "        #Product level deep dive table\n",
    "        \n",
    "        v11=h[h['month']==target_period].groupby(['Manufacturer','Brand','Subbrand']).sum()\n",
    "        v22=h[h['month']==reference_period].groupby(['Manufacturer','Brand','Subbrand']).sum()\n",
    "        growth_rate=(v22-v11)*100/v22\n",
    "        contribution=(v11*100)/v11.sum()\n",
    "        product=growth_rate*contribution\n",
    "           "
   ]
  },
  {
   "cell_type": "code",
   "execution_count": 573,
   "metadata": {
    "scrolled": true
   },
   "outputs": [],
   "source": [
    "sales('GLAXOSMITHKLINE','2019-04-01','2019-03-01')"
   ]
  },
  {
   "cell_type": "code",
   "execution_count": null,
   "metadata": {},
   "outputs": [],
   "source": []
  },
  {
   "cell_type": "code",
   "execution_count": null,
   "metadata": {},
   "outputs": [],
   "source": []
  }
 ],
 "metadata": {
  "kernelspec": {
   "display_name": "Python 3",
   "language": "python",
   "name": "python3"
  }
 },
 "nbformat": 4,
 "nbformat_minor": 2
}
